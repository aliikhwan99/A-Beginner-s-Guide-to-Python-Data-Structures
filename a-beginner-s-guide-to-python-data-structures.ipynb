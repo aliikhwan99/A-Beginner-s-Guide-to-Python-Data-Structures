{
 "cells": [
  {
   "cell_type": "markdown",
   "id": "cd2d564e",
   "metadata": {
    "papermill": {
     "duration": 0.004233,
     "end_time": "2024-10-08T04:40:20.958883",
     "exception": false,
     "start_time": "2024-10-08T04:40:20.954650",
     "status": "completed"
    },
    "tags": []
   },
   "source": [
    "# Objective\n",
    "* This notebook is designed for data science, data analytics, and data engineering professionals and enthusiasts. Understanding Python's core data structures is crucial for efficiently managing, manipulating, and analyzing data. Lists, strings, dictionaries, and arrays form the building blocks for many data-related tasks, from simple analysis to complex data engineering pipelines."
   ]
  },
  {
   "cell_type": "markdown",
   "id": "93ffe4aa",
   "metadata": {
    "papermill": {
     "duration": 0.003561,
     "end_time": "2024-10-08T04:40:20.966480",
     "exception": false,
     "start_time": "2024-10-08T04:40:20.962919",
     "status": "completed"
    },
    "tags": []
   },
   "source": [
    "# Core Data Structures in Python"
   ]
  },
  {
   "cell_type": "markdown",
   "id": "a516a784",
   "metadata": {
    "papermill": {
     "duration": 0.003402,
     "end_time": "2024-10-08T04:40:20.973559",
     "exception": false,
     "start_time": "2024-10-08T04:40:20.970157",
     "status": "completed"
    },
    "tags": []
   },
   "source": [
    "# 1. Sequence Types\n",
    "Sequence types are data structures that store an ordered collection of elements. The order of elements is significant, meaning that you can access them by their position (index) within the sequence.\n",
    "\n",
    "The term \"**sequence**\" emphasizes the linear arrangement of elements, allowing access by index. They support operations that rely on their order, such as slicing and indexing.\n",
    "\n",
    "* List: An ordered, mutable collection of elements.\n",
    "\n",
    "* Tuple: An ordered, immutable collection of elements.\n",
    "\n",
    "* String: A sequence of characters (immutable)."
   ]
  },
  {
   "cell_type": "markdown",
   "id": "6b1fcda7",
   "metadata": {
    "papermill": {
     "duration": 0.0035,
     "end_time": "2024-10-08T04:40:20.980682",
     "exception": false,
     "start_time": "2024-10-08T04:40:20.977182",
     "status": "completed"
    },
    "tags": []
   },
   "source": [
    "# 2. Mapping Type\n",
    "A mapping type is a collection of key-value pairs, where each key is unique and maps to a specific value. You can retrieve, insert, or modify values using their associated keys.\n",
    "\n",
    "The name \"mapping\" reflects the concept of mapping unique keys to specific values, allowing for efficient data retrieval. It emphasizes the association between keys and values rather than a sequential arrangement.\n",
    "\n",
    "* Dictionary: An unordered collection of key-value pairs."
   ]
  },
  {
   "cell_type": "markdown",
   "id": "af98fb22",
   "metadata": {
    "papermill": {
     "duration": 0.003396,
     "end_time": "2024-10-08T04:40:20.987781",
     "exception": false,
     "start_time": "2024-10-08T04:40:20.984385",
     "status": "completed"
    },
    "tags": []
   },
   "source": [
    "# 3. Set Types\n",
    "\n",
    "Set types are collections of unique elements that are unordered. They support mathematical set operations like union, intersection, and difference.\n",
    "\n",
    "The term \"**set**\" is derived from mathematical terminology, where a set is defined as a collection of distinct objects. This name highlights the properties of uniqueness and unordered nature, distinguishing them from other collections.\n",
    "\n",
    "\n",
    "* An unordered collection of unique elements.\n",
    "\n",
    "* Frozenset: An immutable version of a set."
   ]
  },
  {
   "cell_type": "markdown",
   "id": "72bb7401",
   "metadata": {
    "papermill": {
     "duration": 0.003381,
     "end_time": "2024-10-08T04:40:20.994896",
     "exception": false,
     "start_time": "2024-10-08T04:40:20.991515",
     "status": "completed"
    },
    "tags": []
   },
   "source": [
    "# 4. Binary Types\n",
    "Binary types represent raw binary data. They are used for handling data that isn't easily represented as standard text, such as images, audio files, or other byte-based data.\n",
    "\n",
    "The name \"**binary**\" indicates that these types deal specifically with byte data, which consists of 0s and 1s. This term distinguishes them from text-based data structures, focusing on their utility for low-level data handling.\n",
    "\n",
    "* Bytes: A sequence of bytes (immutable).\n",
    "\n",
    "* Bytearray: A mutable sequence of bytes.\n",
    "\n",
    "* Memoryview: A view of the memory of bytes or bytearray objects."
   ]
  },
  {
   "cell_type": "markdown",
   "id": "8639f921",
   "metadata": {
    "papermill": {
     "duration": 0.003825,
     "end_time": "2024-10-08T04:40:21.002519",
     "exception": false,
     "start_time": "2024-10-08T04:40:20.998694",
     "status": "completed"
    },
    "tags": []
   },
   "source": [
    "# Summary of Core Structures\n",
    "* **List**: Mutable sequence, allows duplicates.\n",
    "\n",
    "* **Tuple:** Immutable sequence, allows duplicates.\n",
    "\n",
    "* **String:** Immutable sequence of characters.\n",
    "\n",
    "* **Dictionary:** Mutable mapping, keys must be unique.\n",
    "\n",
    "* **Set:** Mutable collection of unique elements.\n",
    "\n",
    "* **Frozenset:** Immutable collection of unique elements.\n",
    "\n",
    "* **Bytes:** Immutable sequence of bytes.\n",
    "\n",
    "* **Bytearray:** Mutable sequence of bytes.\n",
    "\n",
    "* **Memoryview:** A view into the memory of another byte-based object."
   ]
  },
  {
   "cell_type": "markdown",
   "id": "f9ef3754",
   "metadata": {
    "papermill": {
     "duration": 0.0034,
     "end_time": "2024-10-08T04:40:21.009742",
     "exception": false,
     "start_time": "2024-10-08T04:40:21.006342",
     "status": "completed"
    },
    "tags": []
   },
   "source": [
    "# Lists in Python\n",
    "* Description: Lists are useful for managing datasets where items need to be **ordered, indexed, and modified**. They can store a mix of data types, but are especially handy for manipulating collections of similar data such as rows from a database or data from a CSV file."
   ]
  },
  {
   "cell_type": "code",
   "execution_count": 1,
   "id": "14028c5d",
   "metadata": {
    "_cell_guid": "b1076dfc-b9ad-4769-8c92-a6c4dae69d19",
    "_uuid": "8f2839f25d086af736a60e9eeb907d3b93b6e0e5",
    "execution": {
     "iopub.execute_input": "2024-10-08T04:40:21.019972Z",
     "iopub.status.busy": "2024-10-08T04:40:21.019097Z",
     "iopub.status.idle": "2024-10-08T04:40:21.031500Z",
     "shell.execute_reply": "2024-10-08T04:40:21.030258Z"
    },
    "papermill": {
     "duration": 0.020418,
     "end_time": "2024-10-08T04:40:21.033978",
     "exception": false,
     "start_time": "2024-10-08T04:40:21.013560",
     "status": "completed"
    },
    "tags": []
   },
   "outputs": [
    {
     "name": "stdout",
     "output_type": "stream",
     "text": [
      "Updated sales: [1000, 1500, 1200, 1100, 1400, 1600]\n",
      "Total sales for the week: 7800\n"
     ]
    }
   ],
   "source": [
    "# Example: Storing daily sales figures\n",
    "daily_sales = [1000, 1500, 1200, 1100, 1400]\n",
    "\n",
    "# Adding a new day's sales\n",
    "daily_sales.append(1600)\n",
    "print(\"Updated sales:\", daily_sales)\n",
    "\n",
    "# Calculating total sales for the week\n",
    "total_sales = sum(daily_sales)\n",
    "print(\"Total sales for the week:\", total_sales)\n"
   ]
  },
  {
   "cell_type": "markdown",
   "id": "971edde9",
   "metadata": {
    "papermill": {
     "duration": 0.003645,
     "end_time": "2024-10-08T04:40:21.041850",
     "exception": false,
     "start_time": "2024-10-08T04:40:21.038205",
     "status": "completed"
    },
    "tags": []
   },
   "source": [
    "# Strings \n",
    "* Strings are fundamental when working with text data, which is common in data analytics tasks like parsing CSV files, working with dates, or cleaning datasets."
   ]
  },
  {
   "cell_type": "code",
   "execution_count": 2,
   "id": "93a25b67",
   "metadata": {
    "execution": {
     "iopub.execute_input": "2024-10-08T04:40:21.052292Z",
     "iopub.status.busy": "2024-10-08T04:40:21.051876Z",
     "iopub.status.idle": "2024-10-08T04:40:21.060758Z",
     "shell.execute_reply": "2024-10-08T04:40:21.059452Z"
    },
    "papermill": {
     "duration": 0.017953,
     "end_time": "2024-10-08T04:40:21.063695",
     "exception": false,
     "start_time": "2024-10-08T04:40:21.045742",
     "status": "completed"
    },
    "tags": []
   },
   "outputs": [
    {
     "name": "stdout",
     "output_type": "stream",
     "text": [
      "Cleaned column name: customer_age\n",
      "Feedback as a list of words: ['This', 'product', 'was', 'amazing', 'and', 'delivery', 'was', 'fast']\n"
     ]
    }
   ],
   "source": [
    "# Example: Cleaning a column name in a dataset\n",
    "column_name = \" customer_age \"\n",
    "cleaned_column_name = column_name.strip().replace(\" \", \"_\")\n",
    "print(\"Cleaned column name:\", cleaned_column_name)\n",
    "\n",
    "# Splitting a string of customer feedback into words\n",
    "feedback = \"This product was amazing and delivery was fast\"\n",
    "words = feedback.split()\n",
    "print(\"Feedback as a list of words:\", words)\n"
   ]
  },
  {
   "cell_type": "markdown",
   "id": "5b0f4b45",
   "metadata": {
    "papermill": {
     "duration": 0.004694,
     "end_time": "2024-10-08T04:40:21.074382",
     "exception": false,
     "start_time": "2024-10-08T04:40:21.069688",
     "status": "completed"
    },
    "tags": []
   },
   "source": [
    "# Dictionaries \n",
    "* Dictionaries are ideal for storing key-value pairs, which are very useful in data engineering tasks such as mapping feature names to values, or creating a lookup for faster data processing."
   ]
  },
  {
   "cell_type": "code",
   "execution_count": 3,
   "id": "8fb9b84f",
   "metadata": {
    "execution": {
     "iopub.execute_input": "2024-10-08T04:40:21.084469Z",
     "iopub.status.busy": "2024-10-08T04:40:21.084067Z",
     "iopub.status.idle": "2024-10-08T04:40:21.090498Z",
     "shell.execute_reply": "2024-10-08T04:40:21.089213Z"
    },
    "papermill": {
     "duration": 0.01464,
     "end_time": "2024-10-08T04:40:21.093266",
     "exception": false,
     "start_time": "2024-10-08T04:40:21.078626",
     "status": "completed"
    },
    "tags": []
   },
   "outputs": [
    {
     "name": "stdout",
     "output_type": "stream",
     "text": [
      "Feature type for age: int\n",
      "Updated feature types: {'age': 'int', 'salary': 'double', 'city': 'string'}\n"
     ]
    }
   ],
   "source": [
    "# Example: Mapping feature names to their types in a dataset\n",
    "feature_types = {\n",
    "    \"age\": \"int\",\n",
    "    \"salary\": \"float\",\n",
    "    \"city\": \"string\"\n",
    "}\n",
    "print(\"Feature type for age:\", feature_types[\"age\"])\n",
    "\n",
    "# Modifying the feature type for salary\n",
    "feature_types[\"salary\"] = \"double\"\n",
    "print(\"Updated feature types:\", feature_types)\n"
   ]
  },
  {
   "cell_type": "markdown",
   "id": "222f0a20",
   "metadata": {
    "papermill": {
     "duration": 0.003882,
     "end_time": "2024-10-08T04:40:21.102428",
     "exception": false,
     "start_time": "2024-10-08T04:40:21.098546",
     "status": "completed"
    },
    "tags": []
   },
   "source": [
    "# Arrays\n",
    "* Arrays are especially useful when working with numerical data and performing vectorized operations. NumPy arrays are faster and more efficient for large datasets, making them essential in data science for tasks like matrix operations, linear algebra, or statistics."
   ]
  },
  {
   "cell_type": "code",
   "execution_count": 4,
   "id": "2e2be975",
   "metadata": {
    "execution": {
     "iopub.execute_input": "2024-10-08T04:40:21.112571Z",
     "iopub.status.busy": "2024-10-08T04:40:21.112051Z",
     "iopub.status.idle": "2024-10-08T04:40:21.122346Z",
     "shell.execute_reply": "2024-10-08T04:40:21.121246Z"
    },
    "papermill": {
     "duration": 0.018873,
     "end_time": "2024-10-08T04:40:21.125423",
     "exception": false,
     "start_time": "2024-10-08T04:40:21.106550",
     "status": "completed"
    },
    "tags": []
   },
   "outputs": [
    {
     "name": "stdout",
     "output_type": "stream",
     "text": [
      "Monthly sales data: [1000 1500 1200 1100 1400 1600]\n",
      "Mean monthly sales: 1300.0\n",
      "First 5 simulated data points: [58.35840116 46.30164301 67.02186447 48.86464    30.70403624]\n"
     ]
    }
   ],
   "source": [
    "import numpy as np\n",
    "\n",
    "# Example: Creating an array of monthly sales data\n",
    "monthly_sales = np.array([1000, 1500, 1200, 1100, 1400, 1600])\n",
    "print(\"Monthly sales data:\", monthly_sales)\n",
    "\n",
    "# Calculating the mean sales for the first half of the year\n",
    "mean_sales = np.mean(monthly_sales)\n",
    "print(\"Mean monthly sales:\", mean_sales)\n",
    "\n",
    "# Simulating data for analysis\n",
    "simulated_data = np.random.normal(loc=50, scale=10, size=1000)\n",
    "print(\"First 5 simulated data points:\", simulated_data[:5])\n"
   ]
  },
  {
   "cell_type": "code",
   "execution_count": null,
   "id": "0b02b076",
   "metadata": {
    "papermill": {
     "duration": 0.005636,
     "end_time": "2024-10-08T04:40:21.137092",
     "exception": false,
     "start_time": "2024-10-08T04:40:21.131456",
     "status": "completed"
    },
    "tags": []
   },
   "outputs": [],
   "source": []
  }
 ],
 "metadata": {
  "kaggle": {
   "accelerator": "none",
   "dataSources": [],
   "dockerImageVersionId": 30786,
   "isGpuEnabled": false,
   "isInternetEnabled": true,
   "language": "python",
   "sourceType": "notebook"
  },
  "kernelspec": {
   "display_name": "Python 3",
   "language": "python",
   "name": "python3"
  },
  "language_info": {
   "codemirror_mode": {
    "name": "ipython",
    "version": 3
   },
   "file_extension": ".py",
   "mimetype": "text/x-python",
   "name": "python",
   "nbconvert_exporter": "python",
   "pygments_lexer": "ipython3",
   "version": "3.10.14"
  },
  "papermill": {
   "default_parameters": {},
   "duration": 3.361462,
   "end_time": "2024-10-08T04:40:21.564708",
   "environment_variables": {},
   "exception": null,
   "input_path": "__notebook__.ipynb",
   "output_path": "__notebook__.ipynb",
   "parameters": {},
   "start_time": "2024-10-08T04:40:18.203246",
   "version": "2.6.0"
  }
 },
 "nbformat": 4,
 "nbformat_minor": 5
}
